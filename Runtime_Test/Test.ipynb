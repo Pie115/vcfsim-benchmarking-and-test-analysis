{
 "cells": [
  {
   "cell_type": "code",
   "execution_count": 2,
   "id": "91845cd9-aa04-4bbe-b466-6ae250966632",
   "metadata": {},
   "outputs": [],
   "source": [
    "import numpy as np\n",
    "import pandas as pd\n",
    "import time\n",
    "import os"
   ]
  },
  {
   "cell_type": "code",
   "execution_count": null,
   "id": "90061952-5411-4676-8d4a-2478b46065c3",
   "metadata": {},
   "outputs": [],
   "source": [
    "prompt = 'python3 __main__.py --chromosome 1 --replicates 1 --seed ' + seedprompt + ' --sequence_length 100000 --ploidy 2 --Ne 1700000 --mu 1e-9 --percent_missing_sites 20 --percent_missing_genotypes 20 --output_file --sample_size 10'\n",
    "\n",
    "os.system(prompt)"
   ]
  }
 ],
 "metadata": {
  "kernelspec": {
   "display_name": "Python 3 (ipykernel)",
   "language": "python",
   "name": "python3"
  },
  "language_info": {
   "codemirror_mode": {
    "name": "ipython",
    "version": 3
   },
   "file_extension": ".py",
   "mimetype": "text/x-python",
   "name": "python",
   "nbconvert_exporter": "python",
   "pygments_lexer": "ipython3",
   "version": "3.9.13"
  }
 },
 "nbformat": 4,
 "nbformat_minor": 5
}
